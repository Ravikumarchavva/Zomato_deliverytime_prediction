{
 "cells": [
  {
   "cell_type": "code",
   "execution_count": 2,
   "metadata": {},
   "outputs": [
    {
     "data": {
      "text/html": [
       "<div><style>\n",
       ".dataframe > thead > tr,\n",
       ".dataframe > tbody > tr {\n",
       "  text-align: right;\n",
       "  white-space: pre-wrap;\n",
       "}\n",
       "</style>\n",
       "<small>shape: (5, 20)</small><table border=\"1\" class=\"dataframe\"><thead><tr><th>ID</th><th>Delivery_person_ID</th><th>Delivery_person_Age</th><th>Delivery_person_Ratings</th><th>Restaurant_latitude</th><th>Restaurant_longitude</th><th>Delivery_location_latitude</th><th>Delivery_location_longitude</th><th>Order_Date</th><th>Time_Orderd</th><th>Time_Order_picked</th><th>Weather_conditions</th><th>Road_traffic_density</th><th>Vehicle_condition</th><th>Type_of_order</th><th>Type_of_vehicle</th><th>multiple_deliveries</th><th>Festival</th><th>City</th><th>Time_taken (min)</th></tr><tr><td>str</td><td>str</td><td>f64</td><td>f64</td><td>f64</td><td>f64</td><td>f64</td><td>f64</td><td>str</td><td>str</td><td>str</td><td>str</td><td>str</td><td>i64</td><td>str</td><td>str</td><td>f64</td><td>str</td><td>str</td><td>i64</td></tr></thead><tbody><tr><td>&quot;0xcdcd&quot;</td><td>&quot;DEHRES17DEL01&quot;</td><td>36.0</td><td>4.2</td><td>30.327968</td><td>78.046106</td><td>30.397968</td><td>78.116106</td><td>&quot;12-02-2022&quot;</td><td>&quot;21:55&quot;</td><td>&quot;22:10&quot;</td><td>&quot;Fog&quot;</td><td>&quot;Jam&quot;</td><td>2</td><td>&quot;Snack&quot;</td><td>&quot;motorcycle&quot;</td><td>3.0</td><td>&quot;No&quot;</td><td>&quot;Metropolitian&quot;</td><td>46</td></tr><tr><td>&quot;0xd987&quot;</td><td>&quot;KOCRES16DEL01&quot;</td><td>21.0</td><td>4.7</td><td>10.003064</td><td>76.307589</td><td>10.043064</td><td>76.347589</td><td>&quot;13-02-2022&quot;</td><td>&quot;14:55&quot;</td><td>&quot;15:05&quot;</td><td>&quot;Stormy&quot;</td><td>&quot;High&quot;</td><td>1</td><td>&quot;Meal&quot;</td><td>&quot;motorcycle&quot;</td><td>1.0</td><td>&quot;No&quot;</td><td>&quot;Metropolitian&quot;</td><td>23</td></tr><tr><td>&quot;0x2784&quot;</td><td>&quot;PUNERES13DEL03&quot;</td><td>23.0</td><td>4.7</td><td>18.56245</td><td>73.916619</td><td>18.65245</td><td>74.006619</td><td>&quot;04-03-2022&quot;</td><td>&quot;17:30&quot;</td><td>&quot;17:40&quot;</td><td>&quot;Sandstorms&quot;</td><td>&quot;Medium&quot;</td><td>1</td><td>&quot;Drinks&quot;</td><td>&quot;scooter&quot;</td><td>1.0</td><td>&quot;No&quot;</td><td>&quot;Metropolitian&quot;</td><td>21</td></tr><tr><td>&quot;0xc8b6&quot;</td><td>&quot;LUDHRES15DEL02&quot;</td><td>34.0</td><td>4.3</td><td>30.899584</td><td>75.809346</td><td>30.919584</td><td>75.829346</td><td>&quot;13-02-2022&quot;</td><td>&quot;09:20&quot;</td><td>&quot;09:30&quot;</td><td>&quot;Sandstorms&quot;</td><td>&quot;Low&quot;</td><td>0</td><td>&quot;Buffet&quot;</td><td>&quot;motorcycle&quot;</td><td>0.0</td><td>&quot;No&quot;</td><td>&quot;Metropolitian&quot;</td><td>20</td></tr><tr><td>&quot;0xdb64&quot;</td><td>&quot;KNPRES14DEL02&quot;</td><td>24.0</td><td>4.7</td><td>26.463504</td><td>80.372929</td><td>26.593504</td><td>80.502929</td><td>&quot;14-02-2022&quot;</td><td>&quot;19:50&quot;</td><td>&quot;20:05&quot;</td><td>&quot;Fog&quot;</td><td>&quot;Jam&quot;</td><td>1</td><td>&quot;Snack&quot;</td><td>&quot;scooter&quot;</td><td>1.0</td><td>&quot;No&quot;</td><td>&quot;Metropolitian&quot;</td><td>41</td></tr></tbody></table></div>"
      ],
      "text/plain": [
       "shape: (5, 20)\n",
       "┌────────┬────────────┬────────────┬────────────┬───┬───────────┬──────────┬───────────┬───────────┐\n",
       "│ ID     ┆ Delivery_p ┆ Delivery_p ┆ Delivery_p ┆ … ┆ multiple_ ┆ Festival ┆ City      ┆ Time_take │\n",
       "│ ---    ┆ erson_ID   ┆ erson_Age  ┆ erson_Rati ┆   ┆ deliverie ┆ ---      ┆ ---       ┆ n (min)   │\n",
       "│ str    ┆ ---        ┆ ---        ┆ ngs        ┆   ┆ s         ┆ str      ┆ str       ┆ ---       │\n",
       "│        ┆ str        ┆ f64        ┆ ---        ┆   ┆ ---       ┆          ┆           ┆ i64       │\n",
       "│        ┆            ┆            ┆ f64        ┆   ┆ f64       ┆          ┆           ┆           │\n",
       "╞════════╪════════════╪════════════╪════════════╪═══╪═══════════╪══════════╪═══════════╪═══════════╡\n",
       "│ 0xcdcd ┆ DEHRES17DE ┆ 36.0       ┆ 4.2        ┆ … ┆ 3.0       ┆ No       ┆ Metropoli ┆ 46        │\n",
       "│        ┆ L01        ┆            ┆            ┆   ┆           ┆          ┆ tian      ┆           │\n",
       "│ 0xd987 ┆ KOCRES16DE ┆ 21.0       ┆ 4.7        ┆ … ┆ 1.0       ┆ No       ┆ Metropoli ┆ 23        │\n",
       "│        ┆ L01        ┆            ┆            ┆   ┆           ┆          ┆ tian      ┆           │\n",
       "│ 0x2784 ┆ PUNERES13D ┆ 23.0       ┆ 4.7        ┆ … ┆ 1.0       ┆ No       ┆ Metropoli ┆ 21        │\n",
       "│        ┆ EL03       ┆            ┆            ┆   ┆           ┆          ┆ tian      ┆           │\n",
       "│ 0xc8b6 ┆ LUDHRES15D ┆ 34.0       ┆ 4.3        ┆ … ┆ 0.0       ┆ No       ┆ Metropoli ┆ 20        │\n",
       "│        ┆ EL02       ┆            ┆            ┆   ┆           ┆          ┆ tian      ┆           │\n",
       "│ 0xdb64 ┆ KNPRES14DE ┆ 24.0       ┆ 4.7        ┆ … ┆ 1.0       ┆ No       ┆ Metropoli ┆ 41        │\n",
       "│        ┆ L02        ┆            ┆            ┆   ┆           ┆          ┆ tian      ┆           │\n",
       "└────────┴────────────┴────────────┴────────────┴───┴───────────┴──────────┴───────────┴───────────┘"
      ]
     },
     "execution_count": 2,
     "metadata": {},
     "output_type": "execute_result"
    }
   ],
   "source": [
    "from components.data_ingestion import DataIngestion\n",
    "# from components.data_preprocessing import DataPreprocessing\n",
    "# from components.data_exploration import DataExploration\n",
    "# from components.data_modeling import DataModeling\n",
    "# from components.data_evaluation import DataEvaluation\n",
    "# from components.data_visualization import DataVisualization\n",
    "# from components.data_export import DataExport\n",
    "\n",
    "from configs.configs import ROOT_DIR\n",
    "RAW_DATA_DIR = ROOT_DIR / 'data' / 'raw_data'\n",
    "\n",
    "data_ingestor = DataIngestion(raw_data_dir=RAW_DATA_DIR)\n",
    "raw_data = data_ingestor.load_data('Zomato Dataset.csv')\n",
    "raw_data.head()"
   ]
  },
  {
   "cell_type": "code",
   "execution_count": 3,
   "metadata": {},
   "outputs": [
    {
     "data": {
      "text/html": [
       "<div><style>\n",
       ".dataframe > thead > tr,\n",
       ".dataframe > tbody > tr {\n",
       "  text-align: right;\n",
       "  white-space: pre-wrap;\n",
       "}\n",
       "</style>\n",
       "<small>shape: (5, 18)</small><table border=\"1\" class=\"dataframe\"><thead><tr><th>Delivery_person_Age</th><th>Delivery_person_Ratings</th><th>Restaurant_latitude</th><th>Restaurant_longitude</th><th>Delivery_location_latitude</th><th>Delivery_location_longitude</th><th>Order_Date</th><th>Time_Orderd</th><th>Time_Order_picked</th><th>Weather_conditions</th><th>Road_traffic_density</th><th>Vehicle_condition</th><th>Type_of_order</th><th>Type_of_vehicle</th><th>multiple_deliveries</th><th>Festival</th><th>City</th><th>Time_taken (min)</th></tr><tr><td>f64</td><td>f64</td><td>f64</td><td>f64</td><td>f64</td><td>f64</td><td>str</td><td>str</td><td>str</td><td>str</td><td>str</td><td>i64</td><td>str</td><td>str</td><td>f64</td><td>str</td><td>str</td><td>i64</td></tr></thead><tbody><tr><td>36.0</td><td>4.2</td><td>30.327968</td><td>78.046106</td><td>30.397968</td><td>78.116106</td><td>&quot;12-02-2022&quot;</td><td>&quot;21:55&quot;</td><td>&quot;22:10&quot;</td><td>&quot;Fog&quot;</td><td>&quot;Jam&quot;</td><td>2</td><td>&quot;Snack&quot;</td><td>&quot;motorcycle&quot;</td><td>3.0</td><td>&quot;No&quot;</td><td>&quot;Metropolitian&quot;</td><td>46</td></tr><tr><td>21.0</td><td>4.7</td><td>10.003064</td><td>76.307589</td><td>10.043064</td><td>76.347589</td><td>&quot;13-02-2022&quot;</td><td>&quot;14:55&quot;</td><td>&quot;15:05&quot;</td><td>&quot;Stormy&quot;</td><td>&quot;High&quot;</td><td>1</td><td>&quot;Meal&quot;</td><td>&quot;motorcycle&quot;</td><td>1.0</td><td>&quot;No&quot;</td><td>&quot;Metropolitian&quot;</td><td>23</td></tr><tr><td>23.0</td><td>4.7</td><td>18.56245</td><td>73.916619</td><td>18.65245</td><td>74.006619</td><td>&quot;04-03-2022&quot;</td><td>&quot;17:30&quot;</td><td>&quot;17:40&quot;</td><td>&quot;Sandstorms&quot;</td><td>&quot;Medium&quot;</td><td>1</td><td>&quot;Drinks&quot;</td><td>&quot;scooter&quot;</td><td>1.0</td><td>&quot;No&quot;</td><td>&quot;Metropolitian&quot;</td><td>21</td></tr><tr><td>34.0</td><td>4.3</td><td>30.899584</td><td>75.809346</td><td>30.919584</td><td>75.829346</td><td>&quot;13-02-2022&quot;</td><td>&quot;09:20&quot;</td><td>&quot;09:30&quot;</td><td>&quot;Sandstorms&quot;</td><td>&quot;Low&quot;</td><td>0</td><td>&quot;Buffet&quot;</td><td>&quot;motorcycle&quot;</td><td>0.0</td><td>&quot;No&quot;</td><td>&quot;Metropolitian&quot;</td><td>20</td></tr><tr><td>24.0</td><td>4.7</td><td>26.463504</td><td>80.372929</td><td>26.593504</td><td>80.502929</td><td>&quot;14-02-2022&quot;</td><td>&quot;19:50&quot;</td><td>&quot;20:05&quot;</td><td>&quot;Fog&quot;</td><td>&quot;Jam&quot;</td><td>1</td><td>&quot;Snack&quot;</td><td>&quot;scooter&quot;</td><td>1.0</td><td>&quot;No&quot;</td><td>&quot;Metropolitian&quot;</td><td>41</td></tr></tbody></table></div>"
      ],
      "text/plain": [
       "shape: (5, 18)\n",
       "┌───────────┬───────────┬───────────┬───────────┬───┬───────────┬──────────┬───────────┬───────────┐\n",
       "│ Delivery_ ┆ Delivery_ ┆ Restauran ┆ Restauran ┆ … ┆ multiple_ ┆ Festival ┆ City      ┆ Time_take │\n",
       "│ person_Ag ┆ person_Ra ┆ t_latitud ┆ t_longitu ┆   ┆ deliverie ┆ ---      ┆ ---       ┆ n (min)   │\n",
       "│ e         ┆ tings     ┆ e         ┆ de        ┆   ┆ s         ┆ str      ┆ str       ┆ ---       │\n",
       "│ ---       ┆ ---       ┆ ---       ┆ ---       ┆   ┆ ---       ┆          ┆           ┆ i64       │\n",
       "│ f64       ┆ f64       ┆ f64       ┆ f64       ┆   ┆ f64       ┆          ┆           ┆           │\n",
       "╞═══════════╪═══════════╪═══════════╪═══════════╪═══╪═══════════╪══════════╪═══════════╪═══════════╡\n",
       "│ 36.0      ┆ 4.2       ┆ 30.327968 ┆ 78.046106 ┆ … ┆ 3.0       ┆ No       ┆ Metropoli ┆ 46        │\n",
       "│           ┆           ┆           ┆           ┆   ┆           ┆          ┆ tian      ┆           │\n",
       "│ 21.0      ┆ 4.7       ┆ 10.003064 ┆ 76.307589 ┆ … ┆ 1.0       ┆ No       ┆ Metropoli ┆ 23        │\n",
       "│           ┆           ┆           ┆           ┆   ┆           ┆          ┆ tian      ┆           │\n",
       "│ 23.0      ┆ 4.7       ┆ 18.56245  ┆ 73.916619 ┆ … ┆ 1.0       ┆ No       ┆ Metropoli ┆ 21        │\n",
       "│           ┆           ┆           ┆           ┆   ┆           ┆          ┆ tian      ┆           │\n",
       "│ 34.0      ┆ 4.3       ┆ 30.899584 ┆ 75.809346 ┆ … ┆ 0.0       ┆ No       ┆ Metropoli ┆ 20        │\n",
       "│           ┆           ┆           ┆           ┆   ┆           ┆          ┆ tian      ┆           │\n",
       "│ 24.0      ┆ 4.7       ┆ 26.463504 ┆ 80.372929 ┆ … ┆ 1.0       ┆ No       ┆ Metropoli ┆ 41        │\n",
       "│           ┆           ┆           ┆           ┆   ┆           ┆          ┆ tian      ┆           │\n",
       "└───────────┴───────────┴───────────┴───────────┴───┴───────────┴──────────┴───────────┴───────────┘"
      ]
     },
     "execution_count": 3,
     "metadata": {},
     "output_type": "execute_result"
    }
   ],
   "source": [
    "raw_data.drop(\"ID\", \"Delivery_person_ID\").head()"
   ]
  },
  {
   "cell_type": "code",
   "execution_count": null,
   "metadata": {},
   "outputs": [],
   "source": []
  }
 ],
 "metadata": {
  "kernelspec": {
   "display_name": "eda",
   "language": "python",
   "name": "python3"
  },
  "language_info": {
   "codemirror_mode": {
    "name": "ipython",
    "version": 3
   },
   "file_extension": ".py",
   "mimetype": "text/x-python",
   "name": "python",
   "nbconvert_exporter": "python",
   "pygments_lexer": "ipython3",
   "version": "3.11.11"
  }
 },
 "nbformat": 4,
 "nbformat_minor": 2
}
